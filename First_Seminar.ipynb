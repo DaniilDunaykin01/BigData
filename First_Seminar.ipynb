{
 "cells": [
  {
   "cell_type": "code",
   "execution_count": null,
   "id": "e82e76ad",
   "metadata": {},
   "outputs": [],
   "source": [
    "#Задачи для самостоятельного решения:\n",
    "#1) Реализовать программу, позволяющую рассчитать для заданного n сумму ряда.\n",
    "#2) Команда жюри принимает решение большинством голосов. Результаты их голосования заносятся в массив: 1 – «за», 0 – «против». Реализовать программу, в которой осуществляется ввод результатов голосования и выводится сообщение о принятии или непринятии решения.\n",
    "#3) В заданном кортеже найти минимальное значение, максимальное значения и среднее арифметическое элементов кортежа.\n",
    "#4) Заданы два списка. Постройте список, содержащий все элементы, принадлежащие обоим спискам.\n",
    "#5) Написать функцию, которая для заданного в качестве параметра списка чисел возвращает номер элемента, имеющего наибольшее значение синуса.\n",
    "#6) Реализовать подпрограмму, в которой все заданные элементы списка заменяются на заданный (предложите итерационный и рекурсивный алгоритм)."
   ]
  },
  {
   "cell_type": "code",
   "execution_count": 1,
   "id": "613f3260",
   "metadata": {},
   "outputs": [
    {
     "name": "stdout",
     "output_type": "stream",
     "text": [
      "Введите значение переменной n...\n",
      "3\n",
      "Вывод: -32\n"
     ]
    }
   ],
   "source": [
    "#Задача №1\n",
    "n = int(input(\"Введите значение переменной n...\\n\"))\n",
    "def func1(n):\n",
    "    s = 0\n",
    "    for i in range(0, n + 1):\n",
    "        s += ((-1)**i)*(2*i + 1)**2\n",
    "    return s\n",
    "print(\"Вывод:\", func1(n))"
   ]
  },
  {
   "cell_type": "code",
   "execution_count": 5,
   "id": "21f38002",
   "metadata": {},
   "outputs": [
    {
     "name": "stdout",
     "output_type": "stream",
     "text": [
      "Итог выборов: За\n"
     ]
    }
   ],
   "source": [
    "#Задача №2\n",
    "l = [1, 0, 0, 1, 1]\n",
    "def func2(l):\n",
    "    k, m = 0, 0\n",
    "    for i in l:\n",
    "        if i == 1:\n",
    "            k += 1\n",
    "        elif i == 0:\n",
    "            m += 1\n",
    "    if k > m:\n",
    "        return \"За\"\n",
    "    elif k < m:\n",
    "        return \"Против\"\n",
    "    else:\n",
    "        return \"Ничья\"\n",
    "print(\"Итог выборов:\", func2(l))"
   ]
  },
  {
   "cell_type": "code",
   "execution_count": 6,
   "id": "a157c9d4",
   "metadata": {},
   "outputs": [
    {
     "name": "stdout",
     "output_type": "stream",
     "text": [
      "Минимальное значение: -6\n",
      "Максимальное значение: 13\n",
      "Среднее арифметическое значение: 4.666666666666667\n"
     ]
    }
   ],
   "source": [
    "#Задача №3\n",
    "t = (1, 2, 3, 4, 5, 11, -6, 9, 13)\n",
    "def func3(t):\n",
    "    minimum = t[0]\n",
    "    maximum = t[0]\n",
    "    average = 0\n",
    "    summa = 0\n",
    "    for i in t:\n",
    "        if i > maximum:\n",
    "            maximum = i\n",
    "    for i in t:\n",
    "        if i < minimum:\n",
    "            minimum = i\n",
    "    for i in t:\n",
    "        summa += i\n",
    "    average = summa / len(t)\n",
    "    return minimum, maximum, average\n",
    "values = func3(t)\n",
    "print(\"Минимальное значение:\", values[0])\n",
    "print(\"Максимальное значение:\", values[1])\n",
    "print(\"Среднее арифметическое значение:\",values[2])"
   ]
  },
  {
   "cell_type": "code",
   "execution_count": 7,
   "id": "9dca6260",
   "metadata": {},
   "outputs": [
    {
     "name": "stdout",
     "output_type": "stream",
     "text": [
      "Выходной список...\n",
      " [2, 3, 4]\n"
     ]
    }
   ],
   "source": [
    "#Задача №4\n",
    "S1 = [0, 2, 3, 4, 5]\n",
    "S2 = [6, 3, 19, 1, 2, 4]\n",
    "def func4(S1, S2):\n",
    "    S3 = list()\n",
    "    for i in S1:\n",
    "        if i in S2:\n",
    "            S3.append(i)\n",
    "    return S3\n",
    "print(\"Выходной список...\\n\",func4(S1, S2))"
   ]
  },
  {
   "cell_type": "code",
   "execution_count": 8,
   "id": "1e3a25b8",
   "metadata": {},
   "outputs": [
    {
     "name": "stdout",
     "output_type": "stream",
     "text": [
      "0.8414709848078965\n",
      "0.9092974268256817\n",
      "0.1411200080598672\n",
      "-0.9999902065507035\n",
      "0.6569865987187891\n",
      "0.0\n",
      "-0.008851309290403876\n",
      "-0.6636338842129675\n",
      "-0.5440211108893698\n",
      "Индекс элемента с наибольшим синусом: 1\n"
     ]
    }
   ],
   "source": [
    "#Задача №5\n",
    "from math import sin as s\n",
    "L = [1, 2, 3, 11, 7, 0, 22, 29, 10]\n",
    "def func5(L):\n",
    "    max = s(L[0])\n",
    "    temp = 0\n",
    "    i = 0\n",
    "    while i < len(L):\n",
    "        if s(L[i]) > max:\n",
    "            max = s(L[i])\n",
    "            temp = i\n",
    "        print(s(L[i]))\n",
    "        i += 1\n",
    "    return temp\n",
    "print(\"Индекс элемента с наибольшим синусом:\", func5(L))\n"
   ]
  },
  {
   "cell_type": "code",
   "execution_count": 12,
   "id": "7ceb9c5b",
   "metadata": {},
   "outputs": [
    {
     "name": "stdout",
     "output_type": "stream",
     "text": [
      "На какое число необоходимо заменить элементы списка: 11\n",
      "Какой элемент списка Вы хотите изменить? Выберете номер от 0 до 8\n",
      "1\n",
      "Закончить... Y/N\n",
      "N\n",
      "Какой элемент списка Вы хотите изменить? Выберете номер от 0 до 8\n",
      "2\n",
      "Закончить... Y/N\n",
      "Y\n",
      "Вывод: [1, 11, 11, 4, 5, 6, 7, 8, 9]\n"
     ]
    }
   ],
   "source": [
    "#Задача №6\n",
    "R = [1, 2, 3, 4, 5, 6, 7, 8, 9]\n",
    "want = int(input(\"На какое число необоходимо заменить элементы списка: \"))\n",
    "F = list();\n",
    "temp = -1;\n",
    "while True:\n",
    "    print(\"Какой элемент списка Вы хотите изменить? Выберете номер от 0 до \" + str(len(L)-1))\n",
    "    temp = int(input())\n",
    "    if temp < 0 or temp > len(R)-1 or F.count(temp) > 0:\n",
    "        print(\"Error! Try again...\")\n",
    "        print(\"Какой элемент списка Вы хотите изменить? Выберете номер от 0 до \" + str(len(L)-1))\n",
    "        temp = int(input())\n",
    "    else:\n",
    "        F.append(temp)\n",
    "    print(\"Закончить... y/n\")\n",
    "    temp = str(input())\n",
    "    if temp == \"y\":\n",
    "        break\n",
    "def func6(R, want, F):\n",
    "    i = int(0)\n",
    "    while(i < len(F)):\n",
    "        R[F[i]] = want\n",
    "        i += 1\n",
    "    return R\n",
    "print(\"Вывод:\",func6(R, want, F))"
   ]
  },
  {
   "cell_type": "code",
   "execution_count": null,
   "id": "eccc22de",
   "metadata": {},
   "outputs": [],
   "source": []
  }
 ],
 "metadata": {
  "kernelspec": {
   "display_name": "Python 3 (ipykernel)",
   "language": "python",
   "name": "python3"
  },
  "language_info": {
   "codemirror_mode": {
    "name": "ipython",
    "version": 3
   },
   "file_extension": ".py",
   "mimetype": "text/x-python",
   "name": "python",
   "nbconvert_exporter": "python",
   "pygments_lexer": "ipython3",
   "version": "3.7.8"
  }
 },
 "nbformat": 4,
 "nbformat_minor": 5
}
