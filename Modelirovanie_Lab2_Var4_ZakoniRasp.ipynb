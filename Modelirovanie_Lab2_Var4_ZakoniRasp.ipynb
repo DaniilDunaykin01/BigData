{
 "cells": [
  {
   "cell_type": "code",
   "execution_count": 17,
   "id": "b83f8c0f",
   "metadata": {},
   "outputs": [],
   "source": [
    "from math import *\n",
    "import random\n",
    "\n",
    "import numpy as np\n",
    "import pandas as pd\n",
    "\n",
    "import matplotlib as mpl\n",
    "import matplotlib.pyplot as plt"
   ]
  },
  {
   "cell_type": "code",
   "execution_count": 142,
   "id": "e0937199",
   "metadata": {},
   "outputs": [],
   "source": [
    "intervalsNum = 20\n",
    "numberQuantity = 200 * intervalsNum\n",
    "Lambda = 0.03"
   ]
  },
  {
   "cell_type": "code",
   "execution_count": 143,
   "id": "6b037ab6",
   "metadata": {},
   "outputs": [],
   "source": [
    "def ExponentialDistribution(numberQuantity,intervalsNum,Lambda):\n",
    "    x_model = np.random.uniform(0, 1, (numberQuantity))\n",
    "    x_real = np.linspace(0, 1, numberQuantity)\n",
    "\n",
    "    y_model = -1 / Lambda * np.log(x_model)\n",
    "    y_real = Lambda * np.exp(-Lambda * x_real * 260)\n",
    "\n",
    "    dy = (y_model.max() - y_model.min()) / intervalsNum\n",
    "\n",
    "    y_model_mid = np.array([(i * dy + dy) / 2 for i in range(0, intervalsNum)])\n",
    "    p_i = np.array([y_model[(y_model > i * dy) & (y_model < i * dy + dy)].size / numberQuantity for i in range(0, intervalsNum)])\n",
    "    h_i = p_i / dy\n",
    "\n",
    "    return (y_model_mid,h_i),(x_real,y_real),(dy,p_i)\n",
    "\n",
    "ModelPltData_exp, RealPltData_exp, dy_And_P_i_exp =  ExponentialDistribution(numberQuantity,intervalsNum,Lambda)"
   ]
  },
  {
   "cell_type": "code",
   "execution_count": 144,
   "id": "11db74d0",
   "metadata": {},
   "outputs": [
    {
     "data": {
      "text/html": [
       "<div>\n",
       "<style scoped>\n",
       "    .dataframe tbody tr th:only-of-type {\n",
       "        vertical-align: middle;\n",
       "    }\n",
       "\n",
       "    .dataframe tbody tr th {\n",
       "        vertical-align: top;\n",
       "    }\n",
       "\n",
       "    .dataframe thead th {\n",
       "        text-align: right;\n",
       "    }\n",
       "</style>\n",
       "<table border=\"1\" class=\"dataframe\">\n",
       "  <thead>\n",
       "    <tr style=\"text-align: right;\">\n",
       "      <th></th>\n",
       "      <th>Model</th>\n",
       "      <th>Real</th>\n",
       "      <th>Delta</th>\n",
       "    </tr>\n",
       "  </thead>\n",
       "  <tbody>\n",
       "    <tr>\n",
       "      <th>Mean</th>\n",
       "      <td>0.001274</td>\n",
       "      <td>0.003847</td>\n",
       "      <td>0.002574</td>\n",
       "    </tr>\n",
       "    <tr>\n",
       "      <th>Dispersion</th>\n",
       "      <td>0.00001</td>\n",
       "      <td>0.000043</td>\n",
       "      <td>0.000033</td>\n",
       "    </tr>\n",
       "  </tbody>\n",
       "</table>\n",
       "</div>"
      ],
      "text/plain": [
       "               Model      Real     Delta\n",
       "Mean        0.001274  0.003847  0.002574\n",
       "Dispersion   0.00001  0.000043  0.000033"
      ]
     },
     "metadata": {},
     "output_type": "display_data"
    }
   ],
   "source": [
    "y_model_mean_exp = (ModelPltData_exp[1]*ModelPltData_exp[0]).sum()/ModelPltData_exp[0].sum()\n",
    "y_model_disp_exp = ((((ModelPltData_exp[1]-y_model_mean_exp)**2)*ModelPltData_exp[0]).sum())/ModelPltData_exp[0].sum()\n",
    "\n",
    "y_real_mean_exp = RealPltData_exp[1].mean()\n",
    "y_real_disp_exp = RealPltData_exp[1].std()**2\n",
    "\n",
    "df_expDistr=pd.DataFrame(\n",
    "    index=['Mean','Dispersion'],\n",
    "    columns=['Model','Real','Delta']\n",
    ")\n",
    "\n",
    "df_expDistr.loc['Mean'] = (pd.Series([y_model_mean_exp,y_real_mean_exp,abs(y_model_mean_exp-y_real_mean_exp)],index=df_expDistr.columns))\n",
    "df_expDistr.loc['Dispersion'] = (pd.Series([y_model_disp_exp,y_real_disp_exp,abs(y_model_disp_exp-y_real_disp_exp)],index=df_expDistr.columns))\n",
    "\n",
    "display(df_expDistr)"
   ]
  },
  {
   "cell_type": "code",
   "execution_count": 145,
   "id": "d461fda9",
   "metadata": {},
   "outputs": [
    {
     "name": "stdout",
     "output_type": "stream",
     "text": [
      "Вычисленное значение:  0.84\n",
      "Табличное значение:  10.2\n",
      "Созданный генератор работает по показательному закону распределения случайной величниы\n"
     ]
    }
   ],
   "source": [
    "dy = dy_And_P_i_exp[0]\n",
    "# for exponential distribution probability to catch at [a,b] P = e^(-Lambda * a) - e^(-Lambda * b)\n",
    "Pi = [exp(-Lambda*(i*dy))-exp(-Lambda*(i*dy+dy)) for i in range(0,intervalsNum)]\n",
    "chi2_observe_exp = (((ModelPltData_exp[1]-Pi)**2)/Pi).sum()\n",
    "\n",
    "# freedom degree = intervalsNum - r - 1 = 20 - 1 - 1\n",
    "chi2_table_exp = 10.2\n",
    "\n",
    "print('Вычисленное значение: ',round(chi2_observe_exp,3))\n",
    "print('Табличное значение: ', chi2_table_exp)\n",
    "if chi2_observe_exp < chi2_table_exp:\n",
    "    print('Созданный генератор работает по показательному закону распределения случайной величниы')"
   ]
  },
  {
   "cell_type": "code",
   "execution_count": 165,
   "id": "53f72e79",
   "metadata": {},
   "outputs": [
    {
     "data": {
      "image/png": "[encoded data removed]",
      "text/plain": [
       "<Figure size 864x504 with 2 Axes>"
      ]
     },
     "metadata": {
      "needs_background": "light"
     },
     "output_type": "display_data"
    }
   ],
   "source": [
    "fig = plt.figure(figsize=(12, 7))\n",
    "\n",
    "ax1 = fig.add_subplot(111)\n",
    "ax1.set_xticks(ModelPltData_exp[0])\n",
    "\n",
    "ax2 = ax1.twiny()\n",
    "\n",
    "ax1.bar(ModelPltData_exp[0], ModelPltData_exp[1], width=3)\n",
    "ax2.plot(RealPltData_exp[0], RealPltData_exp[1], lw=4, c='red')\n",
    "\n",
    "y_model_mean_exp = (ModelPltData_exp[1]*ModelPltData_exp[0]).sum()/ModelPltData_exp[0].sum()\n",
    "y_model_disp_exp = ((((ModelPltData_exp[1]-y_model_mean_exp)**2)*ModelPltData_exp[0]).sum())/ModelPltData_exp[0].sum()\n",
    "\n",
    "y_real_mean_exp = RealPltData_exp[1].mean()\n",
    "y_real_disp_exp = RealPltData_exp[1].std()**2"
   ]
  },
  {
   "cell_type": "code",
   "execution_count": 170,
   "id": "a6696683",
   "metadata": {},
   "outputs": [],
   "source": [
    "intervalsNum=20\n",
    "numbersQuantity=100*intervalsNum*2\n",
    "m_v=100\n",
    "sigma_v=20"
   ]
  },
  {
   "cell_type": "code",
   "execution_count": 171,
   "id": "97fdb404",
   "metadata": {},
   "outputs": [],
   "source": [
    "def NormalDistribution(numbersQuantity, intervalsNum, mean, sigma):\n",
    "    x_model_1 = np.random.uniform(0, 1, (numbersQuantity))\n",
    "    x_model_2 = np.random.uniform(0, 1, (numbersQuantity))\n",
    "    x_real = np.linspace(0, 1, numbersQuantity)\n",
    "\n",
    "    y_model = sigma * np.cos(2 * pi * x_model_1) * np.sqrt(-2 * np.log(x_model_2)) + mean\n",
    "    y_real = 1 / (sigma * sqrt(2 * pi)) * np.exp((-(x_real * 145 - mean) ** 2) / (2 * sigma ** 2))\n",
    "\n",
    "    dy = (y_model.max() - y_model.min()) / intervalsNum\n",
    "\n",
    "    y_model_mid = np.array([(i * dy + dy) / 2 for i in range(0, intervalsNum)])\n",
    "    p_i = np.array([y_model[(y_model > i * dy) & (y_model < i * dy + dy)].size / numbersQuantity for i in range(0, intervalsNum)])\n",
    "    h_i = p_i / dy\n",
    "\n",
    "    return (y_model_mid, h_i), (x_real, y_real), (dy, p_i)\n",
    "\n",
    "\n",
    "ModelPltData_norm, RealPltData_norm, dy_And_P_i_norm =  NormalDistribution(numbersQuantity,intervalsNum,m_v,sigma_v)"
   ]
  },
  {
   "cell_type": "code",
   "execution_count": 172,
   "id": "bba05fe3",
   "metadata": {},
   "outputs": [
    {
     "data": {
      "text/html": [
       "<div>\n",
       "<style scoped>\n",
       "    .dataframe tbody tr th:only-of-type {\n",
       "        vertical-align: middle;\n",
       "    }\n",
       "\n",
       "    .dataframe tbody tr th {\n",
       "        vertical-align: top;\n",
       "    }\n",
       "\n",
       "    .dataframe thead th {\n",
       "        text-align: right;\n",
       "    }\n",
       "</style>\n",
       "<table border=\"1\" class=\"dataframe\">\n",
       "  <thead>\n",
       "    <tr style=\"text-align: right;\">\n",
       "      <th></th>\n",
       "      <th>Model</th>\n",
       "      <th>Real</th>\n",
       "      <th>Delta</th>\n",
       "    </tr>\n",
       "  </thead>\n",
       "  <tbody>\n",
       "    <tr>\n",
       "      <th>Mean</th>\n",
       "      <td>0.009577</td>\n",
       "      <td>0.006811</td>\n",
       "      <td>0.002766</td>\n",
       "    </tr>\n",
       "    <tr>\n",
       "      <th>Dispersion</th>\n",
       "      <td>0.000045</td>\n",
       "      <td>0.000051</td>\n",
       "      <td>0.000006</td>\n",
       "    </tr>\n",
       "  </tbody>\n",
       "</table>\n",
       "</div>"
      ],
      "text/plain": [
       "               Model      Real     Delta\n",
       "Mean        0.009577  0.006811  0.002766\n",
       "Dispersion  0.000045  0.000051  0.000006"
      ]
     },
     "metadata": {},
     "output_type": "display_data"
    }
   ],
   "source": [
    "y_model_mean_norm = (ModelPltData_norm[1]*ModelPltData_norm[0]).sum()/ModelPltData_norm[0].sum()\n",
    "y_model_disp_norm = ((((ModelPltData_norm[1]-y_model_mean_norm)**2)*ModelPltData_norm[0]).sum())/ModelPltData_norm[0].sum()\n",
    "\n",
    "y_real_mean_norm = RealPltData_norm[1].mean()\n",
    "y_real_disp_norm = RealPltData_norm[1].std()**2\n",
    "\n",
    "df_expDistr=pd.DataFrame(\n",
    "    index=['Mean','Dispersion'],\n",
    "    columns=['Model','Real','Delta']\n",
    ")\n",
    "\n",
    "df_expDistr.loc['Mean'] = (pd.Series([y_model_mean_norm,y_real_mean_norm,abs(y_model_mean_norm-y_real_mean_norm)],index=df_expDistr.columns))\n",
    "df_expDistr.loc['Dispersion'] = (pd.Series([y_model_disp_norm,y_real_disp_norm,abs(y_model_disp_norm-y_real_disp_norm)],index=df_expDistr.columns))\n",
    "\n",
    "display(df_expDistr)"
   ]
  },
  {
   "cell_type": "code",
   "execution_count": 227,
   "id": "d19be336",
   "metadata": {},
   "outputs": [
    {
     "name": "stdout",
     "output_type": "stream",
     "text": [
      "Вычисленное значение:  0.278\n",
      "Табличное значение:  8.89\n",
      "Созданный генератор работает по нормальному закону распределения случайной величниы\n"
     ]
    }
   ],
   "source": [
    "dy = dy_And_P_i_norm[0]\n",
    "Pi = [random.normalvariate(mu=m_v,sigma=sigma_v) - random.normalvariate(mu=m_v,sigma=sigma_v)\n",
    "      for i in range(0,intervalsNum)]\n",
    "chi2_observe_norm = (((ModelPltData_norm[1]-Pi)**2)/Pi).sum()\n",
    "\n",
    "# freedom degree = intervalsNum - r - 1 = 20 - 2 - 1\n",
    "chi2_table_norm = 8.89\n",
    "\n",
    "print('Вычисленное значение: ',round(chi2_observe_norm,3))\n",
    "print('Табличное значение: ', chi2_table_norm)\n",
    "if chi2_observe_norm < chi2_table_norm:\n",
    "    print('Созданный генератор работает по нормальному закону распределения случайной величниы')\n",
    "else:\n",
    "    print('Созданный генератор НЕ работает по нормальному закону распределения случайной величниы')"
   ]
  },
  {
   "cell_type": "code",
   "execution_count": 175,
   "id": "50be4cfd",
   "metadata": {},
   "outputs": [
    {
     "data": {
      "image/png": "[encoded data removed]",
      "text/plain": [
       "<Figure size 864x504 with 2 Axes>"
      ]
     },
     "metadata": {
      "needs_background": "light"
     },
     "output_type": "display_data"
    }
   ],
   "source": [
    "fig = plt.figure(figsize=(12, 7))\n",
    "\n",
    "ax1 = fig.add_subplot(111)\n",
    "ax1.set_xticks(ModelPltData_norm[0])\n",
    "\n",
    "ax2 = ax1.twiny()\n",
    "\n",
    "ax1.bar(ModelPltData_norm[0], ModelPltData_norm[1], width=3)\n",
    "ax2.plot(RealPltData_norm[0], RealPltData_norm[1], lw=4, c='red')\n",
    "\n",
    "y_model_mean_norm = (ModelPltData_norm[1]*ModelPltData_norm[0]).sum()/ModelPltData_norm[0].sum()\n",
    "y_model_disp_norm = ((((ModelPltData_norm[1]-y_model_mean_norm)**2)*ModelPltData_norm[0]).sum())/ModelPltData_norm[0].sum()\n",
    "\n",
    "y_real_mean_norm = RealPltData_norm[1].mean()\n",
    "y_real_disp_norm = RealPltData_norm[1].std()**2"
   ]
  },
  {
   "cell_type": "code",
   "execution_count": null,
   "id": "1c2667cb",
   "metadata": {},
   "outputs": [],
   "source": []
  }
 ],
 "metadata": {
  "kernelspec": {
   "display_name": "Python 3 (ipykernel)",
   "language": "python",
   "name": "python3"
  },
  "language_info": {
   "codemirror_mode": {
    "name": "ipython",
    "version": 3
   },
   "file_extension": ".py",
   "mimetype": "text/x-python",
   "name": "python",
   "nbconvert_exporter": "python",
   "pygments_lexer": "ipython3",
   "version": "3.7.8"
  }
 },
 "nbformat": 4,
 "nbformat_minor": 5
}
