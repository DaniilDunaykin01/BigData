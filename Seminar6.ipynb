{
 "cells": [
  {
   "cell_type": "code",
   "execution_count": 23,
   "id": "907889f2",
   "metadata": {},
   "outputs": [
    {
     "data": {
      "text/html": [
       "<div>\n",
       "<style scoped>\n",
       "    .dataframe tbody tr th:only-of-type {\n",
       "        vertical-align: middle;\n",
       "    }\n",
       "\n",
       "    .dataframe tbody tr th {\n",
       "        vertical-align: top;\n",
       "    }\n",
       "\n",
       "    .dataframe thead th {\n",
       "        text-align: right;\n",
       "    }\n",
       "</style>\n",
       "<table border=\"1\" class=\"dataframe\">\n",
       "  <thead>\n",
       "    <tr style=\"text-align: right;\">\n",
       "      <th></th>\n",
       "      <th>Номер банка</th>\n",
       "      <th>Капитал</th>\n",
       "      <th>Работающие активы</th>\n",
       "      <th>Уставной капитал</th>\n",
       "    </tr>\n",
       "  </thead>\n",
       "  <tbody>\n",
       "    <tr>\n",
       "      <th>0</th>\n",
       "      <td>1</td>\n",
       "      <td>20.7</td>\n",
       "      <td>11.7</td>\n",
       "      <td>2.4</td>\n",
       "    </tr>\n",
       "    <tr>\n",
       "      <th>1</th>\n",
       "      <td>2</td>\n",
       "      <td>19.9</td>\n",
       "      <td>19.8</td>\n",
       "      <td>17.5</td>\n",
       "    </tr>\n",
       "    <tr>\n",
       "      <th>2</th>\n",
       "      <td>3</td>\n",
       "      <td>9.3</td>\n",
       "      <td>2.6</td>\n",
       "      <td>2.7</td>\n",
       "    </tr>\n",
       "    <tr>\n",
       "      <th>3</th>\n",
       "      <td>4</td>\n",
       "      <td>59.3</td>\n",
       "      <td>43.6</td>\n",
       "      <td>2.1</td>\n",
       "    </tr>\n",
       "    <tr>\n",
       "      <th>4</th>\n",
       "      <td>5</td>\n",
       "      <td>24.7</td>\n",
       "      <td>29.0</td>\n",
       "      <td>23.1</td>\n",
       "    </tr>\n",
       "    <tr>\n",
       "      <th>5</th>\n",
       "      <td>6</td>\n",
       "      <td>47.7</td>\n",
       "      <td>98.5</td>\n",
       "      <td>18.7</td>\n",
       "    </tr>\n",
       "    <tr>\n",
       "      <th>6</th>\n",
       "      <td>7</td>\n",
       "      <td>24.2</td>\n",
       "      <td>25.6</td>\n",
       "      <td>5.3</td>\n",
       "    </tr>\n",
       "    <tr>\n",
       "      <th>7</th>\n",
       "      <td>8</td>\n",
       "      <td>7.8</td>\n",
       "      <td>6.2</td>\n",
       "      <td>2.2</td>\n",
       "    </tr>\n",
       "    <tr>\n",
       "      <th>8</th>\n",
       "      <td>9</td>\n",
       "      <td>38.3</td>\n",
       "      <td>79.8</td>\n",
       "      <td>6.8</td>\n",
       "    </tr>\n",
       "    <tr>\n",
       "      <th>9</th>\n",
       "      <td>10</td>\n",
       "      <td>10.3</td>\n",
       "      <td>10.1</td>\n",
       "      <td>3.5</td>\n",
       "    </tr>\n",
       "    <tr>\n",
       "      <th>10</th>\n",
       "      <td>11</td>\n",
       "      <td>35.7</td>\n",
       "      <td>30.0</td>\n",
       "      <td>13.6</td>\n",
       "    </tr>\n",
       "    <tr>\n",
       "      <th>11</th>\n",
       "      <td>12</td>\n",
       "      <td>20.7</td>\n",
       "      <td>21.2</td>\n",
       "      <td>8.9</td>\n",
       "    </tr>\n",
       "    <tr>\n",
       "      <th>12</th>\n",
       "      <td>13</td>\n",
       "      <td>8.2</td>\n",
       "      <td>16.7</td>\n",
       "      <td>2.2</td>\n",
       "    </tr>\n",
       "    <tr>\n",
       "      <th>13</th>\n",
       "      <td>14</td>\n",
       "      <td>10.2</td>\n",
       "      <td>9.1</td>\n",
       "      <td>9.0</td>\n",
       "    </tr>\n",
       "    <tr>\n",
       "      <th>14</th>\n",
       "      <td>15</td>\n",
       "      <td>23.5</td>\n",
       "      <td>31.7</td>\n",
       "      <td>3.6</td>\n",
       "    </tr>\n",
       "    <tr>\n",
       "      <th>15</th>\n",
       "      <td>16</td>\n",
       "      <td>55.8</td>\n",
       "      <td>54.4</td>\n",
       "      <td>7.5</td>\n",
       "    </tr>\n",
       "    <tr>\n",
       "      <th>16</th>\n",
       "      <td>17</td>\n",
       "      <td>10.3</td>\n",
       "      <td>21.4</td>\n",
       "      <td>4.3</td>\n",
       "    </tr>\n",
       "    <tr>\n",
       "      <th>17</th>\n",
       "      <td>18</td>\n",
       "      <td>16.7</td>\n",
       "      <td>41.1</td>\n",
       "      <td>5.1</td>\n",
       "    </tr>\n",
       "    <tr>\n",
       "      <th>18</th>\n",
       "      <td>19</td>\n",
       "      <td>15.8</td>\n",
       "      <td>29.8</td>\n",
       "      <td>9.9</td>\n",
       "    </tr>\n",
       "    <tr>\n",
       "      <th>19</th>\n",
       "      <td>20</td>\n",
       "      <td>6.8</td>\n",
       "      <td>10.9</td>\n",
       "      <td>2.9</td>\n",
       "    </tr>\n",
       "    <tr>\n",
       "      <th>20</th>\n",
       "      <td>21</td>\n",
       "      <td>22.4</td>\n",
       "      <td>53.4</td>\n",
       "      <td>13.4</td>\n",
       "    </tr>\n",
       "    <tr>\n",
       "      <th>21</th>\n",
       "      <td>22</td>\n",
       "      <td>13.6</td>\n",
       "      <td>22.6</td>\n",
       "      <td>4.8</td>\n",
       "    </tr>\n",
       "    <tr>\n",
       "      <th>22</th>\n",
       "      <td>23</td>\n",
       "      <td>9.9</td>\n",
       "      <td>11.7</td>\n",
       "      <td>5.0</td>\n",
       "    </tr>\n",
       "    <tr>\n",
       "      <th>23</th>\n",
       "      <td>24</td>\n",
       "      <td>24.0</td>\n",
       "      <td>27.3</td>\n",
       "      <td>6.1</td>\n",
       "    </tr>\n",
       "    <tr>\n",
       "      <th>24</th>\n",
       "      <td>25</td>\n",
       "      <td>23.0</td>\n",
       "      <td>70.2</td>\n",
       "      <td>5.9</td>\n",
       "    </tr>\n",
       "    <tr>\n",
       "      <th>25</th>\n",
       "      <td>26</td>\n",
       "      <td>75.1</td>\n",
       "      <td>124.2</td>\n",
       "      <td>17.2</td>\n",
       "    </tr>\n",
       "    <tr>\n",
       "      <th>26</th>\n",
       "      <td>27</td>\n",
       "      <td>56.2</td>\n",
       "      <td>90.4</td>\n",
       "      <td>20.5</td>\n",
       "    </tr>\n",
       "    <tr>\n",
       "      <th>27</th>\n",
       "      <td>28</td>\n",
       "      <td>60.7</td>\n",
       "      <td>101.7</td>\n",
       "      <td>10.7</td>\n",
       "    </tr>\n",
       "    <tr>\n",
       "      <th>28</th>\n",
       "      <td>29</td>\n",
       "      <td>14.8</td>\n",
       "      <td>18.2</td>\n",
       "      <td>2.9</td>\n",
       "    </tr>\n",
       "    <tr>\n",
       "      <th>29</th>\n",
       "      <td>30</td>\n",
       "      <td>41.5</td>\n",
       "      <td>127.7</td>\n",
       "      <td>12.1</td>\n",
       "    </tr>\n",
       "  </tbody>\n",
       "</table>\n",
       "</div>"
      ],
      "text/plain": [
       "    Номер банка  Капитал  Работающие активы  Уставной капитал\n",
       "0             1     20.7               11.7               2.4\n",
       "1             2     19.9               19.8              17.5\n",
       "2             3      9.3                2.6               2.7\n",
       "3             4     59.3               43.6               2.1\n",
       "4             5     24.7               29.0              23.1\n",
       "5             6     47.7               98.5              18.7\n",
       "6             7     24.2               25.6               5.3\n",
       "7             8      7.8                6.2               2.2\n",
       "8             9     38.3               79.8               6.8\n",
       "9            10     10.3               10.1               3.5\n",
       "10           11     35.7               30.0              13.6\n",
       "11           12     20.7               21.2               8.9\n",
       "12           13      8.2               16.7               2.2\n",
       "13           14     10.2                9.1               9.0\n",
       "14           15     23.5               31.7               3.6\n",
       "15           16     55.8               54.4               7.5\n",
       "16           17     10.3               21.4               4.3\n",
       "17           18     16.7               41.1               5.1\n",
       "18           19     15.8               29.8               9.9\n",
       "19           20      6.8               10.9               2.9\n",
       "20           21     22.4               53.4              13.4\n",
       "21           22     13.6               22.6               4.8\n",
       "22           23      9.9               11.7               5.0\n",
       "23           24     24.0               27.3               6.1\n",
       "24           25     23.0               70.2               5.9\n",
       "25           26     75.1              124.2              17.2\n",
       "26           27     56.2               90.4              20.5\n",
       "27           28     60.7              101.7              10.7\n",
       "28           29     14.8               18.2               2.9\n",
       "29           30     41.5              127.7              12.1"
      ]
     },
     "metadata": {},
     "output_type": "display_data"
    }
   ],
   "source": [
    "import pandas as pd\n",
    "import numpy as np\n",
    "from matplotlib import pyplot as plt\n",
    "import statistics as stats\n",
    "import math\n",
    "data = pd.read_excel(\"https://github.com/junaart/ForStudents/blob/master/Big_Data/Seminar_6/data.xlsx?raw=true\")\n",
    "display(data)"
   ]
  },
  {
   "cell_type": "code",
   "execution_count": 3,
   "id": "0ffd238f",
   "metadata": {},
   "outputs": [
    {
     "name": "stdout",
     "output_type": "stream",
     "text": [
      "[17, 6, 4, 3] \n",
      " [2.1, 7.35, 12.6, 17.85, 23.1]\n",
      "['2.1-7.35', '7.35-12.6', '12.6-17.85', '17.85-23.1']\n"
     ]
    },
    {
     "data": {
      "text/plain": [
       "[<matplotlib.lines.Line2D at 0x23082836ac8>]"
      ]
     },
     "execution_count": 3,
     "metadata": {},
     "output_type": "execute_result"
    },
    {
     "data": {
      "image/png": "[encoded data removed]",
      "text/plain": [
       "<Figure size 432x288 with 1 Axes>"
      ]
     },
     "metadata": {
      "needs_background": "light"
     },
     "output_type": "display_data"
    }
   ],
   "source": [
    "#Пункт №1\n",
    "g=np.histogram(data['Уставной капитал'], bins='fd')\n",
    "print(list(g[0]),\"\\n\",list(g[1]))\n",
    "arr=[]\n",
    "for i in range(len(g[1]) - 1):\n",
    "    arr.append(str(g[1][i]) + '-' + str(g[1][i+1]))\n",
    "print(arr)\n",
    "plt.bar(arr,g[0])\n",
    "plt.title('Гистограмма и полигон уставного капитала')\n",
    "plt.xlabel(\"Интервалы уставного капитала\")\n",
    "plt.ylabel(\"Количество банков\")\n",
    "plt.plot(arr, g[0], color = 'red')\n",
    "#plt.show()\n",
    "#plt.hist(data[\"Уставной капитал\"])"
   ]
  },
  {
   "cell_type": "code",
   "execution_count": 6,
   "id": "da4d0bab",
   "metadata": {},
   "outputs": [
    {
     "name": "stdout",
     "output_type": "stream",
     "text": [
      "[13, 8, 2, 2, 3, 2] \n",
      " [2.6, 23.450000000000003, 44.300000000000004, 65.15, 86.0, 106.85, 127.7]\n",
      "['2.6-23.450000000000003', '23.450000000000003-44.300000000000004', '44.300000000000004-65.15', '65.15-86.0', '86.0-106.85', '106.85-127.7']\n"
     ]
    },
    {
     "data": {
      "text/plain": [
       "[<matplotlib.lines.Line2D at 0x1fd20968448>]"
      ]
     },
     "execution_count": 6,
     "metadata": {},
     "output_type": "execute_result"
    },
    {
     "data": {
      "image/png": "[encoded data removed]",
      "text/plain": [
       "<Figure size 432x288 with 1 Axes>"
      ]
     },
     "metadata": {
      "needs_background": "light"
     },
     "output_type": "display_data"
    }
   ],
   "source": [
    "g=np.histogram(data['Работающие активы'], bins='fd')\n",
    "print(list(g[0]),\"\\n\",list(g[1]))\n",
    "g[0]\n",
    "arr=[]\n",
    "for i in range(len(g[1]) - 1):\n",
    "    arr.append(str(g[1][i]) + '-' + str(g[1][i+1]))\n",
    "print(arr)\n",
    "plt.bar(arr,g[0])\n",
    "plt.title('Гистограмма и полигон работающих активов')\n",
    "plt.xlabel(\"Интервалы работающих активов\")\n",
    "plt.ylabel(\"Количество банков\")\n",
    "plt.plot(arr, g[0], color = 'red')"
   ]
  },
  {
   "cell_type": "code",
   "execution_count": 7,
   "id": "5dcf20aa",
   "metadata": {},
   "outputs": [
    {
     "name": "stdout",
     "output_type": "stream",
     "text": [
      "[13, 8, 4, 4, 1] \n",
      " [6.8, 20.46, 34.12, 47.78, 61.44, 75.1]\n",
      "['6.8-20.46', '20.46-34.12', '34.12-47.78', '47.78-61.44', '61.44-75.1']\n"
     ]
    },
    {
     "data": {
      "text/plain": [
       "[<matplotlib.lines.Line2D at 0x1fd20a25208>]"
      ]
     },
     "execution_count": 7,
     "metadata": {},
     "output_type": "execute_result"
    },
    {
     "data": {
      "image/png": "[encoded data removed]",
      "text/plain": [
       "<Figure size 432x288 with 1 Axes>"
      ]
     },
     "metadata": {
      "needs_background": "light"
     },
     "output_type": "display_data"
    }
   ],
   "source": [
    "g=np.histogram(data['Капитал'], bins='fd')\n",
    "print(list(g[0]),\"\\n\",list(g[1]))\n",
    "g[0]\n",
    "arr=[]\n",
    "for i in range(len(g[1])-1):\n",
    "    arr.append(str(g[1][i]) + '-' + str(g[1][i+1]))\n",
    "print(arr)\n",
    "plt.bar(arr,g[0])\n",
    "plt.title('Гистограмма и полигон капитала')\n",
    "plt.xlabel(\"Интервалы капитала\")\n",
    "plt.ylabel(\"Количество банков\")\n",
    "plt.plot(arr, g[0], color = 'red')"
   ]
  },
  {
   "cell_type": "code",
   "execution_count": 4,
   "id": "dd2f062e",
   "metadata": {},
   "outputs": [
    {
     "data": {
      "text/plain": [
       "(array([17,  6,  4,  3], dtype=int64),\n",
       " array([ 2.1 ,  7.35, 12.6 , 17.85, 23.1 ]))"
      ]
     },
     "metadata": {},
     "output_type": "display_data"
    },
    {
     "data": {
      "text/html": [
       "<div>\n",
       "<style scoped>\n",
       "    .dataframe tbody tr th:only-of-type {\n",
       "        vertical-align: middle;\n",
       "    }\n",
       "\n",
       "    .dataframe tbody tr th {\n",
       "        vertical-align: top;\n",
       "    }\n",
       "\n",
       "    .dataframe thead th {\n",
       "        text-align: right;\n",
       "    }\n",
       "</style>\n",
       "<table border=\"1\" class=\"dataframe\">\n",
       "  <thead>\n",
       "    <tr style=\"text-align: right;\">\n",
       "      <th></th>\n",
       "      <th>Sum</th>\n",
       "      <th>Avg</th>\n",
       "      <th>R</th>\n",
       "      <th>d</th>\n",
       "      <th>imq</th>\n",
       "      <th>Sigma</th>\n",
       "      <th>Kv</th>\n",
       "    </tr>\n",
       "  </thead>\n",
       "  <tbody>\n",
       "    <tr>\n",
       "      <th>0</th>\n",
       "      <td>451.4</td>\n",
       "      <td>26.552941</td>\n",
       "      <td>77.2</td>\n",
       "      <td>12.476717</td>\n",
       "      <td>20.000</td>\n",
       "      <td>21.541301</td>\n",
       "      <td>81.125857</td>\n",
       "    </tr>\n",
       "    <tr>\n",
       "      <th>1</th>\n",
       "      <td>343.9</td>\n",
       "      <td>57.316667</td>\n",
       "      <td>118.6</td>\n",
       "      <td>4.824295</td>\n",
       "      <td>66.525</td>\n",
       "      <td>47.578626</td>\n",
       "      <td>83.010107</td>\n",
       "    </tr>\n",
       "    <tr>\n",
       "      <th>2</th>\n",
       "      <td>227.4</td>\n",
       "      <td>56.850000</td>\n",
       "      <td>104.4</td>\n",
       "      <td>2.862816</td>\n",
       "      <td>43.650</td>\n",
       "      <td>47.051567</td>\n",
       "      <td>82.764411</td>\n",
       "    </tr>\n",
       "    <tr>\n",
       "      <th>3</th>\n",
       "      <td>188.9</td>\n",
       "      <td>94.450000</td>\n",
       "      <td>8.1</td>\n",
       "      <td>1.414214</td>\n",
       "      <td>4.050</td>\n",
       "      <td>5.727565</td>\n",
       "      <td>6.064124</td>\n",
       "    </tr>\n",
       "  </tbody>\n",
       "</table>\n",
       "</div>"
      ],
      "text/plain": [
       "     Sum        Avg      R          d     imq      Sigma         Kv\n",
       "0  451.4  26.552941   77.2  12.476717  20.000  21.541301  81.125857\n",
       "1  343.9  57.316667  118.6   4.824295  66.525  47.578626  83.010107\n",
       "2  227.4  56.850000  104.4   2.862816  43.650  47.051567  82.764411\n",
       "3  188.9  94.450000    8.1   1.414214   4.050   5.727565   6.064124"
      ]
     },
     "metadata": {},
     "output_type": "display_data"
    }
   ],
   "source": [
    "#Пункт №2\n",
    "g = np.histogram(data['Уставной капитал'], bins = 'fd')\n",
    "display(g)\n",
    "newd = pd.DataFrame(columns = [\"Sum\", \"Avg\", \"R\", \"d\", \"imq\", \"Sigma\", \"Kv\"])\n",
    "for temp in range(len(g[0])):\n",
    "    tt = data[(g[1][temp] <= data['Уставной капитал']) & (data['Уставной капитал'] < g[1][temp + 1])]['Работающие активы']\n",
    "    Sum = tt.sum()\n",
    "    Avg = tt.mean()\n",
    "    R = tt.max() - tt.min()\n",
    "    d = (tt - tt.mean()).abs().sum() / tt.std()\n",
    "    imq = np.quantile(tt, 0.75) - np.quantile(tt, 0.25)\n",
    "    Sigma = tt.std()\n",
    "    Kv = Sigma/Avg*100\n",
    "    res = pd.Series([Sum, Avg, R, d, imq, Sigma, Kv], index = newd.columns)\n",
    "    newd = newd.append(res, ignore_index = True)\n",
    "display(newd)"
   ]
  },
  {
   "cell_type": "code",
   "execution_count": 5,
   "id": "ca17f81e",
   "metadata": {},
   "outputs": [
    {
     "data": {
      "text/html": [
       "<div>\n",
       "<style scoped>\n",
       "    .dataframe tbody tr th:only-of-type {\n",
       "        vertical-align: middle;\n",
       "    }\n",
       "\n",
       "    .dataframe tbody tr th {\n",
       "        vertical-align: top;\n",
       "    }\n",
       "\n",
       "    .dataframe thead th {\n",
       "        text-align: right;\n",
       "    }\n",
       "</style>\n",
       "<table border=\"1\" class=\"dataframe\">\n",
       "  <thead>\n",
       "    <tr style=\"text-align: right;\">\n",
       "      <th></th>\n",
       "      <th>Sum</th>\n",
       "      <th>Avg</th>\n",
       "      <th>Median</th>\n",
       "      <th>Dispersion</th>\n",
       "      <th>Sigma</th>\n",
       "      <th>d_Median</th>\n",
       "      <th>Ko</th>\n",
       "      <th>Kv</th>\n",
       "    </tr>\n",
       "  </thead>\n",
       "  <tbody>\n",
       "    <tr>\n",
       "      <th>0</th>\n",
       "      <td>263.9</td>\n",
       "      <td>14.661111</td>\n",
       "      <td>14.20</td>\n",
       "      <td>33.794281</td>\n",
       "      <td>5.813285</td>\n",
       "      <td>15.671002</td>\n",
       "      <td>113.906783</td>\n",
       "      <td>39.651053</td>\n",
       "    </tr>\n",
       "    <tr>\n",
       "      <th>1</th>\n",
       "      <td>146.9</td>\n",
       "      <td>29.380000</td>\n",
       "      <td>24.70</td>\n",
       "      <td>49.297000</td>\n",
       "      <td>7.021182</td>\n",
       "      <td>3.674595</td>\n",
       "      <td>48.672566</td>\n",
       "      <td>23.897829</td>\n",
       "    </tr>\n",
       "    <tr>\n",
       "      <th>2</th>\n",
       "      <td>201.2</td>\n",
       "      <td>50.300000</td>\n",
       "      <td>51.75</td>\n",
       "      <td>49.753333</td>\n",
       "      <td>7.053604</td>\n",
       "      <td>3.232390</td>\n",
       "      <td>29.224652</td>\n",
       "      <td>14.023070</td>\n",
       "    </tr>\n",
       "    <tr>\n",
       "      <th>3</th>\n",
       "      <td>120.0</td>\n",
       "      <td>60.000000</td>\n",
       "      <td>60.00</td>\n",
       "      <td>0.980000</td>\n",
       "      <td>0.989949</td>\n",
       "      <td>1.414214</td>\n",
       "      <td>2.333333</td>\n",
       "      <td>1.649916</td>\n",
       "    </tr>\n",
       "  </tbody>\n",
       "</table>\n",
       "</div>"
      ],
      "text/plain": [
       "     Sum        Avg  Median  Dispersion     Sigma   d_Median          Ko  \\\n",
       "0  263.9  14.661111   14.20   33.794281  5.813285  15.671002  113.906783   \n",
       "1  146.9  29.380000   24.70   49.297000  7.021182   3.674595   48.672566   \n",
       "2  201.2  50.300000   51.75   49.753333  7.053604   3.232390   29.224652   \n",
       "3  120.0  60.000000   60.00    0.980000  0.989949   1.414214    2.333333   \n",
       "\n",
       "          Kv  \n",
       "0  39.651053  \n",
       "1  23.897829  \n",
       "2  14.023070  \n",
       "3   1.649916  "
      ]
     },
     "metadata": {},
     "output_type": "display_data"
    }
   ],
   "source": [
    "#Пункт №3\n",
    "g = np.histogram(data['Капитал'], bins = 4)\n",
    "newd = pd.DataFrame(columns = ['Sum','Avg','Median','Dispersion','Sigma','d_Median','Ko','Kv'])\n",
    "for temp in range(len(g[0])):\n",
    "    tt = data[(g[1][temp]<=data['Капитал']) & (data['Капитал']<g[1][temp + 1])]['Капитал']\n",
    "    Sum = tt.sum()\n",
    "    Avg = tt.mean()\n",
    "    Median = stats.median(tt)\n",
    "    Sigma = tt.std()\n",
    "    Dispersion = Sigma**2\n",
    "    d_Median = (tt - Median).abs().sum() / tt.std()\n",
    "    Ko = (tt.max()-tt.min())/Avg*100\n",
    "    Kv = Sigma/Avg*100\n",
    "    res = pd.Series([Sum, Avg,Median, Dispersion, Sigma, d_Median, Ko, Kv], index = newd.columns)\n",
    "    newd = newd.append(res, ignore_index = True)\n",
    "display(newd)"
   ]
  },
  {
   "cell_type": "code",
   "execution_count": 6,
   "id": "f05d9336",
   "metadata": {},
   "outputs": [
    {
     "data": {
      "image/png": "[encoded data removed]",
      "text/plain": [
       "<Figure size 432x288 with 1 Axes>"
      ]
     },
     "metadata": {
      "needs_background": "light"
     },
     "output_type": "display_data"
    },
    {
     "data": {
      "image/png": "[encoded data removed]",
      "text/plain": [
       "<Figure size 432x288 with 1 Axes>"
      ]
     },
     "metadata": {
      "needs_background": "light"
     },
     "output_type": "display_data"
    },
    {
     "data": {
      "image/png": "[encoded data removed]",
      "text/plain": [
       "<Figure size 432x288 with 1 Axes>"
      ]
     },
     "metadata": {
      "needs_background": "light"
     },
     "output_type": "display_data"
    },
    {
     "data": {
      "text/html": [
       "<div>\n",
       "<style scoped>\n",
       "    .dataframe tbody tr th:only-of-type {\n",
       "        vertical-align: middle;\n",
       "    }\n",
       "\n",
       "    .dataframe tbody tr th {\n",
       "        vertical-align: top;\n",
       "    }\n",
       "\n",
       "    .dataframe thead th {\n",
       "        text-align: right;\n",
       "    }\n",
       "</style>\n",
       "<table border=\"1\" class=\"dataframe\">\n",
       "  <thead>\n",
       "    <tr style=\"text-align: right;\">\n",
       "      <th></th>\n",
       "      <th>Avg</th>\n",
       "      <th>AvgGeom</th>\n",
       "      <th>AvgHarm</th>\n",
       "      <th>Median</th>\n",
       "      <th>Sigma</th>\n",
       "      <th>Disp</th>\n",
       "      <th>Kv</th>\n",
       "    </tr>\n",
       "  </thead>\n",
       "  <tbody>\n",
       "    <tr>\n",
       "      <th>0</th>\n",
       "      <td>26.903333</td>\n",
       "      <td>21.368519</td>\n",
       "      <td>17.193918</td>\n",
       "      <td>21.55</td>\n",
       "      <td>18.895000</td>\n",
       "      <td>357.021023</td>\n",
       "      <td>70.232933</td>\n",
       "    </tr>\n",
       "    <tr>\n",
       "      <th>1</th>\n",
       "      <td>41.353333</td>\n",
       "      <td>28.218637</td>\n",
       "      <td>17.776105</td>\n",
       "      <td>28.15</td>\n",
       "      <td>35.922318</td>\n",
       "      <td>1290.412920</td>\n",
       "      <td>133.523669</td>\n",
       "    </tr>\n",
       "    <tr>\n",
       "      <th>2</th>\n",
       "      <td>8.330000</td>\n",
       "      <td>6.432275</td>\n",
       "      <td>5.021340</td>\n",
       "      <td>6.00</td>\n",
       "      <td>6.079709</td>\n",
       "      <td>36.962862</td>\n",
       "      <td>22.598349</td>\n",
       "    </tr>\n",
       "  </tbody>\n",
       "</table>\n",
       "</div>"
      ],
      "text/plain": [
       "         Avg    AvgGeom    AvgHarm  Median      Sigma         Disp          Kv\n",
       "0  26.903333  21.368519  17.193918   21.55  18.895000   357.021023   70.232933\n",
       "1  41.353333  28.218637  17.776105   28.15  35.922318  1290.412920  133.523669\n",
       "2   8.330000   6.432275   5.021340    6.00   6.079709    36.962862   22.598349"
      ]
     },
     "metadata": {},
     "output_type": "display_data"
    }
   ],
   "source": [
    "#Пункт №4\n",
    "def my_gmean(x):\n",
    "    r = 1\n",
    "    for i in x:\n",
    "        r *= i\n",
    "    return r**(1 / len(x))\n",
    "\n",
    "newframe = pd.DataFrame(columns = ['Avg','AvgGeom','AvgHarm','Median','Sigma','Disp','Kv'])\n",
    "\n",
    "#Капитал\n",
    "Avg = data['Капитал'].mean()\n",
    "AvgGeom = my_gmean(data['Капитал'])\n",
    "AvgHarm = stats.harmonic_mean(data['Капитал'])\n",
    "Median = data['Капитал'].median()\n",
    "Sigma = data['Капитал'].std()\n",
    "Disp = Sigma**2\n",
    "Kv = Sigma / Avg * 100\n",
    "newframe = newframe.append(pd.Series([Avg, AvgGeom, AvgHarm, Median, Sigma, Disp, Kv], index = newframe.columns), ignore_index = True)\n",
    "#display(newframe)\n",
    "plt.boxplot(data['Капитал'])\n",
    "plt.title(\"Капитал\")\n",
    "plt.show()\n",
    "\n",
    "#Работающие активы\n",
    "Avg_col2 = data[\"Работающие активы\"].mean()\n",
    "AvgHarm_col2 = stats.harmonic_mean(data[\"Работающие активы\"])\n",
    "AvgGeom_col2 = my_gmean(data[\"Работающие активы\"])\n",
    "Med_col2 = stats.median(data[\"Работающие активы\"])\n",
    "Sigma = data['Работающие активы'].std()\n",
    "Disp = Sigma**2\n",
    "Kv = Sigma / Avg * 100\n",
    "newframe = newframe.append(pd.Series([Avg_col2, AvgGeom_col2, AvgHarm_col2, Med_col2, Sigma, Disp, Kv], index = newframe.columns), ignore_index = True)\n",
    "#display(newframe)\n",
    "plt.boxplot(data[\"Работающие активы\"])\n",
    "plt.title(\"Работающие активы\")\n",
    "plt.show()\n",
    "\n",
    "#Уставной капитал\n",
    "Avg_col2 = data[\"Уставной капитал\"].mean()\n",
    "AvgHarm_col2 = stats.harmonic_mean(data[\"Уставной капитал\"])\n",
    "AvgGeom_col2 = my_gmean(data[\"Уставной капитал\"])\n",
    "Med_col2 = stats.median(data[\"Уставной капитал\"])\n",
    "Sigma = data['Уставной капитал'].std()\n",
    "Disp = Sigma**2\n",
    "Kv = Sigma / Avg * 100\n",
    "newframe = newframe.append(pd.Series([Avg_col2, AvgGeom_col2, AvgHarm_col2, Med_col2, Sigma, Disp, Kv], index = newframe.columns), ignore_index = True)\n",
    "plt.boxplot(data[\"Уставной капитал\"])\n",
    "plt.title(\"Уставной капитал\")\n",
    "plt.show()\n",
    "display(newframe)"
   ]
  },
  {
   "cell_type": "code",
   "execution_count": 7,
   "id": "f0da3225",
   "metadata": {},
   "outputs": [
    {
     "data": {
      "text/html": [
       "<div>\n",
       "<style scoped>\n",
       "    .dataframe tbody tr th:only-of-type {\n",
       "        vertical-align: middle;\n",
       "    }\n",
       "\n",
       "    .dataframe tbody tr th {\n",
       "        vertical-align: top;\n",
       "    }\n",
       "\n",
       "    .dataframe thead th {\n",
       "        text-align: right;\n",
       "    }\n",
       "</style>\n",
       "<table border=\"1\" class=\"dataframe\">\n",
       "  <thead>\n",
       "    <tr style=\"text-align: right;\">\n",
       "      <th></th>\n",
       "      <th>Ka</th>\n",
       "      <th>Ke</th>\n",
       "    </tr>\n",
       "  </thead>\n",
       "  <tbody>\n",
       "    <tr>\n",
       "      <th>0</th>\n",
       "      <td>0.961832</td>\n",
       "      <td>-0.279018</td>\n",
       "    </tr>\n",
       "    <tr>\n",
       "      <th>1</th>\n",
       "      <td>1.080707</td>\n",
       "      <td>-0.096381</td>\n",
       "    </tr>\n",
       "    <tr>\n",
       "      <th>2</th>\n",
       "      <td>0.903481</td>\n",
       "      <td>-0.409458</td>\n",
       "    </tr>\n",
       "  </tbody>\n",
       "</table>\n",
       "</div>"
      ],
      "text/plain": [
       "         Ka        Ke\n",
       "0  0.961832 -0.279018\n",
       "1  1.080707 -0.096381\n",
       "2  0.903481 -0.409458"
      ]
     },
     "metadata": {},
     "output_type": "display_data"
    }
   ],
   "source": [
    "#Пункт №5\n",
    "newframe = pd.DataFrame(columns = ['Ka', 'Ke'])\n",
    "\n",
    "for col in range(1,len(data.columns)):\n",
    "    series = data.iloc[:,col]\n",
    "    m3 = ((series - series.mean())**3).sum() / len(series)\n",
    "    Ka = m3 / (series.std())**3\n",
    "    m4 = ((series - series.mean())**4).sum() / len(series)\n",
    "    Ke = m4 / (series.std())**4-3\n",
    "    newframe = newframe.append(pd.Series([Ka, Ke], index = newframe.columns), ignore_index = True)\n",
    "display(newframe)"
   ]
  },
  {
   "cell_type": "code",
   "execution_count": 8,
   "id": "827e6c0e",
   "metadata": {},
   "outputs": [
    {
     "data": {
      "text/html": [
       "<div>\n",
       "<style scoped>\n",
       "    .dataframe tbody tr th:only-of-type {\n",
       "        vertical-align: middle;\n",
       "    }\n",
       "\n",
       "    .dataframe tbody tr th {\n",
       "        vertical-align: top;\n",
       "    }\n",
       "\n",
       "    .dataframe thead th {\n",
       "        text-align: right;\n",
       "    }\n",
       "</style>\n",
       "<table border=\"1\" class=\"dataframe\">\n",
       "  <thead>\n",
       "    <tr style=\"text-align: right;\">\n",
       "      <th></th>\n",
       "      <th>Ka</th>\n",
       "      <th>Ke</th>\n",
       "    </tr>\n",
       "  </thead>\n",
       "  <tbody>\n",
       "    <tr>\n",
       "      <th>0</th>\n",
       "      <td>0.961832</td>\n",
       "      <td>-0.279018</td>\n",
       "    </tr>\n",
       "    <tr>\n",
       "      <th>1</th>\n",
       "      <td>0.903481</td>\n",
       "      <td>-0.409458</td>\n",
       "    </tr>\n",
       "    <tr>\n",
       "      <th>2</th>\n",
       "      <td>1.080707</td>\n",
       "      <td>-0.096381</td>\n",
       "    </tr>\n",
       "  </tbody>\n",
       "</table>\n",
       "</div>"
      ],
      "text/plain": [
       "         Ka        Ke\n",
       "0  0.961832 -0.279018\n",
       "1  0.903481 -0.409458\n",
       "2  1.080707 -0.096381"
      ]
     },
     "metadata": {},
     "output_type": "display_data"
    }
   ],
   "source": [
    "newframe = pd.DataFrame(columns = ['Ka', 'Ke'])\n",
    "capital = pd.Series(data[\"Капитал\"])\n",
    "m3 = ((capital - capital.mean())**3).sum() / len(capital)\n",
    "Ka = m3 / (capital.std())**3\n",
    "m4 = ((capital - capital.mean())**4).sum() / len(capital)\n",
    "Ke = m4 / (capital.std())**4-3\n",
    "newframe = newframe.append(pd.Series([Ka, Ke], index = newframe.columns), ignore_index = True)\n",
    "\n",
    "ustav_cap = pd.Series(data[\"Уставной капитал\"])\n",
    "m3 = ((ustav_cap - ustav_cap.mean())**3).sum() / len(ustav_cap)\n",
    "Ka = m3 / (ustav_cap.std())**3\n",
    "m4 = ((ustav_cap - ustav_cap.mean())**4).sum() / len(ustav_cap)\n",
    "Ke = m4 / (ustav_cap.std())**4-3\n",
    "newframe = newframe.append(pd.Series([Ka, Ke], index = newframe.columns), ignore_index = True)\n",
    "\n",
    "rab_act = pd.Series(data[\"Работающие активы\"])\n",
    "m3 = ((rab_act - rab_act.mean())**3).sum() / len(rab_act)\n",
    "Ka = m3 / (rab_act.std())**3\n",
    "m4 = ((rab_act - rab_act.mean())**4).sum() / len(rab_act)\n",
    "Ke = m4 / (rab_act.std())**4-3\n",
    "newframe = newframe.append(pd.Series([Ka, Ke], index = newframe.columns), ignore_index = True)\n",
    "display(newframe)"
   ]
  },
  {
   "cell_type": "code",
   "execution_count": 9,
   "id": "3a61f6ea",
   "metadata": {},
   "outputs": [
    {
     "data": {
      "text/plain": [
       "(array([17,  6,  4,  3], dtype=int64),\n",
       " array([ 2.1 ,  7.35, 12.6 , 17.85, 23.1 ]))"
      ]
     },
     "metadata": {},
     "output_type": "display_data"
    },
    {
     "data": {
      "text/html": [
       "<div>\n",
       "<style scoped>\n",
       "    .dataframe tbody tr th:only-of-type {\n",
       "        vertical-align: middle;\n",
       "    }\n",
       "\n",
       "    .dataframe tbody tr th {\n",
       "        vertical-align: top;\n",
       "    }\n",
       "\n",
       "    .dataframe thead th {\n",
       "        text-align: right;\n",
       "    }\n",
       "</style>\n",
       "<table border=\"1\" class=\"dataframe\">\n",
       "  <thead>\n",
       "    <tr style=\"text-align: right;\">\n",
       "      <th></th>\n",
       "      <th>Avg</th>\n",
       "      <th>Median</th>\n",
       "      <th>Modal</th>\n",
       "      <th>Sigma</th>\n",
       "    </tr>\n",
       "  </thead>\n",
       "  <tbody>\n",
       "    <tr>\n",
       "      <th>0</th>\n",
       "      <td>3.988235</td>\n",
       "      <td>3.60</td>\n",
       "      <td>0    2.2\n",
       "1    2.9\n",
       "dtype: float64</td>\n",
       "      <td>1.534146</td>\n",
       "    </tr>\n",
       "    <tr>\n",
       "      <th>1</th>\n",
       "      <td>9.683333</td>\n",
       "      <td>9.45</td>\n",
       "      <td>0     7.5\n",
       "1     8.9\n",
       "2     9.0\n",
       "3     9.9\n",
       "4    1...</td>\n",
       "      <td>1.598020</td>\n",
       "    </tr>\n",
       "    <tr>\n",
       "      <th>2</th>\n",
       "      <td>15.425000</td>\n",
       "      <td>15.40</td>\n",
       "      <td>0    13.4\n",
       "1    13.6\n",
       "2    17.2\n",
       "3    17.5\n",
       "dtype:...</td>\n",
       "      <td>2.227667</td>\n",
       "    </tr>\n",
       "    <tr>\n",
       "      <th>3</th>\n",
       "      <td>19.600000</td>\n",
       "      <td>19.60</td>\n",
       "      <td>0    18.7\n",
       "1    20.5\n",
       "dtype: float64</td>\n",
       "      <td>1.272792</td>\n",
       "    </tr>\n",
       "  </tbody>\n",
       "</table>\n",
       "</div>"
      ],
      "text/plain": [
       "         Avg  Median                                              Modal  \\\n",
       "0   3.988235    3.60                   0    2.2\n",
       "1    2.9\n",
       "dtype: float64   \n",
       "1   9.683333    9.45  0     7.5\n",
       "1     8.9\n",
       "2     9.0\n",
       "3     9.9\n",
       "4    1...   \n",
       "2  15.425000   15.40  0    13.4\n",
       "1    13.6\n",
       "2    17.2\n",
       "3    17.5\n",
       "dtype:...   \n",
       "3  19.600000   19.60                 0    18.7\n",
       "1    20.5\n",
       "dtype: float64   \n",
       "\n",
       "      Sigma  \n",
       "0  1.534146  \n",
       "1  1.598020  \n",
       "2  2.227667  \n",
       "3  1.272792  "
      ]
     },
     "metadata": {},
     "output_type": "display_data"
    }
   ],
   "source": [
    "#Пункт №6\n",
    "g = np.histogram(data['Уставной капитал'], bins = 'fd')\n",
    "display(g)\n",
    "newd = pd.DataFrame(columns = [\"Avg\", \"Median\", \"Modal\", \"Sigma\"])\n",
    "for temp in range(len(g[0])):\n",
    "    tt = data[(g[1][temp] <= data['Уставной капитал']) & (data['Уставной капитал'] < g[1][temp + 1])]['Уставной капитал']\n",
    "    Avg = tt.mean()\n",
    "    Median = tt.median()\n",
    "    Modal = tt.mode()\n",
    "    Sigma = tt.std()\n",
    "    newd = newd.append(pd.Series([Avg, Median, Modal, Sigma], index = newd.columns), ignore_index = True)\n",
    "display(newd)"
   ]
  },
  {
   "cell_type": "code",
   "execution_count": 44,
   "id": "6c04c955",
   "metadata": {},
   "outputs": [
    {
     "data": {
      "text/plain": [
       "(array([17,  6,  4,  3], dtype=int64),\n",
       " array([ 2.1 ,  7.35, 12.6 , 17.85, 23.1 ]))"
      ]
     },
     "metadata": {},
     "output_type": "display_data"
    },
    {
     "data": {
      "text/html": [
       "<div>\n",
       "<style scoped>\n",
       "    .dataframe tbody tr th:only-of-type {\n",
       "        vertical-align: middle;\n",
       "    }\n",
       "\n",
       "    .dataframe tbody tr th {\n",
       "        vertical-align: top;\n",
       "    }\n",
       "\n",
       "    .dataframe thead th {\n",
       "        text-align: right;\n",
       "    }\n",
       "</style>\n",
       "<table border=\"1\" class=\"dataframe\">\n",
       "  <thead>\n",
       "    <tr style=\"text-align: right;\">\n",
       "      <th></th>\n",
       "      <th>Интервал</th>\n",
       "      <th>Частота</th>\n",
       "    </tr>\n",
       "  </thead>\n",
       "  <tbody>\n",
       "    <tr>\n",
       "      <th>0</th>\n",
       "      <td>2.1-7.35</td>\n",
       "      <td>17</td>\n",
       "    </tr>\n",
       "    <tr>\n",
       "      <th>1</th>\n",
       "      <td>7.35-12.6</td>\n",
       "      <td>6</td>\n",
       "    </tr>\n",
       "    <tr>\n",
       "      <th>2</th>\n",
       "      <td>12.6-17.85</td>\n",
       "      <td>4</td>\n",
       "    </tr>\n",
       "    <tr>\n",
       "      <th>3</th>\n",
       "      <td>17.85-23.1</td>\n",
       "      <td>3</td>\n",
       "    </tr>\n",
       "  </tbody>\n",
       "</table>\n",
       "</div>"
      ],
      "text/plain": [
       "     Интервал Частота\n",
       "0    2.1-7.35      17\n",
       "1   7.35-12.6       6\n",
       "2  12.6-17.85       4\n",
       "3  17.85-23.1       3"
      ]
     },
     "metadata": {},
     "output_type": "display_data"
    },
    {
     "data": {
      "text/html": [
       "<div>\n",
       "<style scoped>\n",
       "    .dataframe tbody tr th:only-of-type {\n",
       "        vertical-align: middle;\n",
       "    }\n",
       "\n",
       "    .dataframe tbody tr th {\n",
       "        vertical-align: top;\n",
       "    }\n",
       "\n",
       "    .dataframe thead th {\n",
       "        text-align: right;\n",
       "    }\n",
       "</style>\n",
       "<table border=\"1\" class=\"dataframe\">\n",
       "  <thead>\n",
       "    <tr style=\"text-align: right;\">\n",
       "      <th></th>\n",
       "      <th>Интервал</th>\n",
       "      <th>Частота</th>\n",
       "      <th>interval mid</th>\n",
       "    </tr>\n",
       "  </thead>\n",
       "  <tbody>\n",
       "    <tr>\n",
       "      <th>0</th>\n",
       "      <td>2.1-7.35</td>\n",
       "      <td>17</td>\n",
       "      <td>4.725</td>\n",
       "    </tr>\n",
       "    <tr>\n",
       "      <th>1</th>\n",
       "      <td>7.35-12.6</td>\n",
       "      <td>6</td>\n",
       "      <td>9.975</td>\n",
       "    </tr>\n",
       "    <tr>\n",
       "      <th>2</th>\n",
       "      <td>12.6-17.85</td>\n",
       "      <td>4</td>\n",
       "      <td>15.225</td>\n",
       "    </tr>\n",
       "    <tr>\n",
       "      <th>3</th>\n",
       "      <td>17.85-23.1</td>\n",
       "      <td>3</td>\n",
       "      <td>20.475</td>\n",
       "    </tr>\n",
       "  </tbody>\n",
       "</table>\n",
       "</div>"
      ],
      "text/plain": [
       "     Интервал Частота  interval mid\n",
       "0    2.1-7.35      17         4.725\n",
       "1   7.35-12.6       6         9.975\n",
       "2  12.6-17.85       4        15.225\n",
       "3  17.85-23.1       3        20.475"
      ]
     },
     "metadata": {},
     "output_type": "display_data"
    }
   ],
   "source": [
    "g = np.histogram(data[\"Уставной капитал\"], bins = 'fd')\n",
    "display(g)\n",
    "newd = pd.DataFrame(columns = [\"Интервал\", \"Частота\"])\n",
    "for i in range(len(g[0])):\n",
    "    s = pd.Series([str(g[1][i]) + '-' + str(g[1][i+1]),g[0][i]], index=newd.columns)\n",
    "    newd = newd.append(s, ignore_index=True)\n",
    "display(newd)\n",
    "\n",
    "s=[]\n",
    "for i in range(len(newd.index)):\n",
    "    a = np.array(newd.iloc[i,0].split('-'),dtype='float64')\n",
    "    s.append((a[0]+a[1])/2)\n",
    "\n",
    "s = pd.Series(s)\n",
    "newd['interval mid'] = s\n",
    "display(newd)"
   ]
  },
  {
   "cell_type": "code",
   "execution_count": 57,
   "id": "810ce952",
   "metadata": {},
   "outputs": [
    {
     "data": {
      "text/plain": [
       "8.75"
      ]
     },
     "execution_count": 57,
     "metadata": {},
     "output_type": "execute_result"
    }
   ],
   "source": [
    "xsr = (newd[\"Частота\"]*newd[\"interval mid\"]).sum()/newd[\"Частота\"].sum()\n",
    "xsr"
   ]
  },
  {
   "cell_type": "code",
   "execution_count": 42,
   "id": "84874201",
   "metadata": {},
   "outputs": [
    {
     "data": {
      "text/plain": [
       "8.33"
      ]
     },
     "execution_count": 42,
     "metadata": {},
     "output_type": "execute_result"
    }
   ],
   "source": [
    "data[\"Уставной капитал\"].mean()"
   ]
  },
  {
   "cell_type": "code",
   "execution_count": 55,
   "id": "5dc7765a",
   "metadata": {},
   "outputs": [
    {
     "data": {
      "text/plain": [
       "6.431292854300588"
      ]
     },
     "execution_count": 55,
     "metadata": {},
     "output_type": "execute_result"
    }
   ],
   "source": [
    "stdg = math.sqrt((((newd[\"interval mid\"] - xsr)**2)*newd[\"Частота\"]).sum()/newd[\"Частота\"].sum())\n",
    "stdg"
   ]
  },
  {
   "cell_type": "code",
   "execution_count": 56,
   "id": "a8daa216",
   "metadata": {},
   "outputs": [
    {
     "data": {
      "text/plain": [
       "123.48082280257128"
      ]
     },
     "execution_count": 56,
     "metadata": {},
     "output_type": "execute_result"
    }
   ],
   "source": [
    "stdg/xsr*100"
   ]
  },
  {
   "cell_type": "code",
   "execution_count": null,
   "id": "f25ea753",
   "metadata": {},
   "outputs": [],
   "source": []
  }
 ],
 "metadata": {
  "kernelspec": {
   "display_name": "Python 3 (ipykernel)",
   "language": "python",
   "name": "python3"
  },
  "language_info": {
   "codemirror_mode": {
    "name": "ipython",
    "version": 3
   },
   "file_extension": ".py",
   "mimetype": "text/x-python",
   "name": "python",
   "nbconvert_exporter": "python",
   "pygments_lexer": "ipython3",
   "version": "3.7.8"
  }
 },
 "nbformat": 4,
 "nbformat_minor": 5
}
